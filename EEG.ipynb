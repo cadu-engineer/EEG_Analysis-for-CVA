{
 "cells": [
  {
   "cell_type": "code",
   "execution_count": 1,
   "metadata": {},
   "outputs": [
    {
     "name": "stdout",
     "output_type": "stream",
     "text": [
      "Extracting EDF parameters from c:\\Users\\carlo\\Desktop\\EEG_Analysis\\EEG_Analysis-for-CVA\\Dataset\\tuh_eeg_abnormal\\edf\\train\\normal\\aaaaaaav_s004_t000.edf...\n",
      "EDF file detected\n",
      "Setting channel info structure...\n",
      "Creating raw.info structure...\n",
      "Reading 0 ... 316999  =      0.000 ...  1267.996 secs...\n",
      "Extracting EDF parameters from c:\\Users\\carlo\\Desktop\\EEG_Analysis\\EEG_Analysis-for-CVA\\Dataset\\tuh_eeg_abnormal\\edf\\train\\normal\\aaaaaabn_s005_t000.edf...\n",
      "EDF file detected\n",
      "Setting channel info structure...\n",
      "Creating raw.info structure...\n",
      "Reading 0 ... 329249  =      0.000 ...  1316.996 secs...\n",
      "Extracting EDF parameters from c:\\Users\\carlo\\Desktop\\EEG_Analysis\\EEG_Analysis-for-CVA\\Dataset\\tuh_eeg_abnormal\\edf\\train\\normal\\aaaaaaff_s002_t000.edf...\n",
      "EDF file detected\n",
      "Setting channel info structure...\n",
      "Creating raw.info structure...\n",
      "Reading 0 ... 302499  =      0.000 ...  1209.996 secs...\n",
      "Extracting EDF parameters from c:\\Users\\carlo\\Desktop\\EEG_Analysis\\EEG_Analysis-for-CVA\\Dataset\\tuh_eeg_abnormal\\edf\\train\\normal\\aaaaaalk_s002_t000.edf...\n",
      "EDF file detected\n",
      "Setting channel info structure...\n",
      "Creating raw.info structure...\n",
      "Reading 0 ... 304749  =      0.000 ...  1218.996 secs...\n",
      "Extracting EDF parameters from c:\\Users\\carlo\\Desktop\\EEG_Analysis\\EEG_Analysis-for-CVA\\Dataset\\tuh_eeg_abnormal\\edf\\train\\normal\\aaaaaama_s002_t000.edf...\n",
      "EDF file detected\n",
      "Setting channel info structure...\n",
      "Creating raw.info structure...\n",
      "Reading 0 ... 334499  =      0.000 ...  1337.996 secs...\n",
      "Extracting EDF parameters from c:\\Users\\carlo\\Desktop\\EEG_Analysis\\EEG_Analysis-for-CVA\\Dataset\\tuh_eeg_abnormal\\edf\\train\\normal\\aaaaaanr_s003_t000.edf...\n",
      "EDF file detected\n",
      "Setting channel info structure...\n",
      "Creating raw.info structure...\n",
      "Reading 0 ... 331249  =      0.000 ...  1324.996 secs...\n",
      "Extracting EDF parameters from c:\\Users\\carlo\\Desktop\\EEG_Analysis\\EEG_Analysis-for-CVA\\Dataset\\tuh_eeg_abnormal\\edf\\train\\normal\\aaaaaanx_s003_t001.edf...\n",
      "EDF file detected\n",
      "Setting channel info structure...\n",
      "Creating raw.info structure...\n",
      "Reading 0 ... 295499  =      0.000 ...  1181.996 secs...\n",
      "Extracting EDF parameters from c:\\Users\\carlo\\Desktop\\EEG_Analysis\\EEG_Analysis-for-CVA\\Dataset\\tuh_eeg_abnormal\\edf\\train\\normal\\aaaaaapr_s002_t001.edf...\n",
      "EDF file detected\n",
      "Setting channel info structure...\n",
      "Creating raw.info structure...\n",
      "Reading 0 ... 301499  =      0.000 ...  1205.996 secs...\n",
      "Extracting EDF parameters from c:\\Users\\carlo\\Desktop\\EEG_Analysis\\EEG_Analysis-for-CVA\\Dataset\\tuh_eeg_abnormal\\edf\\train\\normal\\aaaaaaqb_s004_t000.edf...\n",
      "EDF file detected\n",
      "Setting channel info structure...\n",
      "Creating raw.info structure...\n",
      "Reading 0 ... 376499  =      0.000 ...  1505.996 secs...\n",
      "Extracting EDF parameters from c:\\Users\\carlo\\Desktop\\EEG_Analysis\\EEG_Analysis-for-CVA\\Dataset\\tuh_eeg_abnormal\\edf\\train\\normal\\aaaaaaqu_s002_t001.edf...\n",
      "EDF file detected\n",
      "Setting channel info structure...\n",
      "Creating raw.info structure...\n",
      "Reading 0 ... 331499  =      0.000 ...  1325.996 secs...\n"
     ]
    }
   ],
   "source": [
    "import os\n",
    "import mne\n",
    "\n",
    "folder_path = \"Dataset/tuh_eeg_abnormal/edf/train/normal\"\n",
    "\n",
    "files = os.listdir(folder_path)\n",
    "raws = []\n",
    "for file in files[0:10]:\n",
    "    path = folder_path + '/' + file\n",
    "\n",
    "    raws.append(mne.io.read_raw_edf(path, preload=True))"
   ]
  },
  {
   "cell_type": "code",
   "execution_count": 6,
   "metadata": {},
   "outputs": [
    {
     "ename": "IndexError",
     "evalue": "index 27 is out of bounds for axis 0 with size 0",
     "output_type": "error",
     "traceback": [
      "\u001b[1;31m---------------------------------------------------------------------------\u001b[0m",
      "\u001b[1;31mIndexError\u001b[0m                                Traceback (most recent call last)",
      "Cell \u001b[1;32mIn[6], line 3\u001b[0m\n\u001b[0;32m      1\u001b[0m \u001b[38;5;66;03m# para selecionar somente alguns canais específicos\u001b[39;00m\n\u001b[0;32m      2\u001b[0m \u001b[38;5;28;01mfor\u001b[39;00m raw \u001b[38;5;129;01min\u001b[39;00m raws:\n\u001b[1;32m----> 3\u001b[0m     \u001b[43mraw\u001b[49m\u001b[38;5;241;43m.\u001b[39;49m\u001b[43mpick\u001b[49m\u001b[43m(\u001b[49m\u001b[43m[\u001b[49m\u001b[38;5;124;43m\"\u001b[39;49m\u001b[38;5;124;43mIBI\u001b[39;49m\u001b[38;5;124;43m\"\u001b[39;49m\u001b[43m]\u001b[49m\u001b[43m)\u001b[49m\n\u001b[0;32m      4\u001b[0m     \u001b[38;5;66;03m# raw.pick\u001b[39;00m\n",
      "File \u001b[1;32m<decorator-gen-130>:12\u001b[0m, in \u001b[0;36mpick\u001b[1;34m(self, picks, exclude, verbose)\u001b[0m\n",
      "File \u001b[1;32mc:\\Users\\carlo\\Desktop\\EEG_Analysis\\EEG_Analysis-for-CVA\\venv\\Lib\\site-packages\\mne\\channels\\channels.py:496\u001b[0m, in \u001b[0;36mUpdateChannelsMixin.pick\u001b[1;34m(self, picks, exclude, verbose)\u001b[0m\n\u001b[0;32m    478\u001b[0m \u001b[38;5;250m\u001b[39m\u001b[38;5;124;03m\"\"\"Pick a subset of channels.\u001b[39;00m\n\u001b[0;32m    479\u001b[0m \n\u001b[0;32m    480\u001b[0m \u001b[38;5;124;03mParameters\u001b[39;00m\n\u001b[1;32m   (...)\u001b[0m\n\u001b[0;32m    493\u001b[0m \u001b[38;5;124;03m    The modified instance.\u001b[39;00m\n\u001b[0;32m    494\u001b[0m \u001b[38;5;124;03m\"\"\"\u001b[39;00m\n\u001b[0;32m    495\u001b[0m picks \u001b[38;5;241m=\u001b[39m _picks_to_idx(\u001b[38;5;28mself\u001b[39m\u001b[38;5;241m.\u001b[39minfo, picks, \u001b[38;5;124m\"\u001b[39m\u001b[38;5;124mall\u001b[39m\u001b[38;5;124m\"\u001b[39m, exclude, allow_empty\u001b[38;5;241m=\u001b[39m\u001b[38;5;28;01mFalse\u001b[39;00m)\n\u001b[1;32m--> 496\u001b[0m \u001b[38;5;28;43mself\u001b[39;49m\u001b[38;5;241;43m.\u001b[39;49m\u001b[43m_pick_drop_channels\u001b[49m\u001b[43m(\u001b[49m\u001b[43mpicks\u001b[49m\u001b[43m)\u001b[49m\n\u001b[0;32m    498\u001b[0m \u001b[38;5;66;03m# remove dropped channel types from reject and flat\u001b[39;00m\n\u001b[0;32m    499\u001b[0m \u001b[38;5;28;01mif\u001b[39;00m \u001b[38;5;28mgetattr\u001b[39m(\u001b[38;5;28mself\u001b[39m, \u001b[38;5;124m\"\u001b[39m\u001b[38;5;124mreject\u001b[39m\u001b[38;5;124m\"\u001b[39m, \u001b[38;5;28;01mNone\u001b[39;00m) \u001b[38;5;129;01mis\u001b[39;00m \u001b[38;5;129;01mnot\u001b[39;00m \u001b[38;5;28;01mNone\u001b[39;00m:\n\u001b[0;32m    500\u001b[0m     \u001b[38;5;66;03m# use list(self.reject) to avoid RuntimeError for changing dictionary size\u001b[39;00m\n\u001b[0;32m    501\u001b[0m     \u001b[38;5;66;03m# during iteration\u001b[39;00m\n",
      "File \u001b[1;32m<decorator-gen-131>:12\u001b[0m, in \u001b[0;36m_pick_drop_channels\u001b[1;34m(self, idx, verbose)\u001b[0m\n",
      "File \u001b[1;32mc:\\Users\\carlo\\Desktop\\EEG_Analysis\\EEG_Analysis-for-CVA\\venv\\Lib\\site-packages\\mne\\channels\\channels.py:616\u001b[0m, in \u001b[0;36mUpdateChannelsMixin._pick_drop_channels\u001b[1;34m(self, idx, verbose)\u001b[0m\n\u001b[0;32m    613\u001b[0m     \u001b[38;5;28mself\u001b[39m\u001b[38;5;241m.\u001b[39mpicks \u001b[38;5;241m=\u001b[39m \u001b[38;5;28mself\u001b[39m\u001b[38;5;241m.\u001b[39mpicks[idx]\n\u001b[0;32m    615\u001b[0m \u001b[38;5;28;01mif\u001b[39;00m \u001b[38;5;28mgetattr\u001b[39m(\u001b[38;5;28mself\u001b[39m, \u001b[38;5;124m\"\u001b[39m\u001b[38;5;124m_read_picks\u001b[39m\u001b[38;5;124m\"\u001b[39m, \u001b[38;5;28;01mNone\u001b[39;00m) \u001b[38;5;129;01mis\u001b[39;00m \u001b[38;5;129;01mnot\u001b[39;00m \u001b[38;5;28;01mNone\u001b[39;00m:\n\u001b[1;32m--> 616\u001b[0m     \u001b[38;5;28mself\u001b[39m\u001b[38;5;241m.\u001b[39m_read_picks \u001b[38;5;241m=\u001b[39m \u001b[43m[\u001b[49m\u001b[43mr\u001b[49m\u001b[43m[\u001b[49m\u001b[43midx\u001b[49m\u001b[43m]\u001b[49m\u001b[43m \u001b[49m\u001b[38;5;28;43;01mfor\u001b[39;49;00m\u001b[43m \u001b[49m\u001b[43mr\u001b[49m\u001b[43m \u001b[49m\u001b[38;5;129;43;01min\u001b[39;49;00m\u001b[43m \u001b[49m\u001b[38;5;28;43mself\u001b[39;49m\u001b[38;5;241;43m.\u001b[39;49m\u001b[43m_read_picks\u001b[49m\u001b[43m]\u001b[49m\n\u001b[0;32m    618\u001b[0m \u001b[38;5;28;01mif\u001b[39;00m \u001b[38;5;28mhasattr\u001b[39m(\u001b[38;5;28mself\u001b[39m, \u001b[38;5;124m\"\u001b[39m\u001b[38;5;124m_cals\u001b[39m\u001b[38;5;124m\"\u001b[39m):\n\u001b[0;32m    619\u001b[0m     \u001b[38;5;28mself\u001b[39m\u001b[38;5;241m.\u001b[39m_cals \u001b[38;5;241m=\u001b[39m \u001b[38;5;28mself\u001b[39m\u001b[38;5;241m.\u001b[39m_cals[idx]\n",
      "File \u001b[1;32mc:\\Users\\carlo\\Desktop\\EEG_Analysis\\EEG_Analysis-for-CVA\\venv\\Lib\\site-packages\\mne\\channels\\channels.py:616\u001b[0m, in \u001b[0;36m<listcomp>\u001b[1;34m(.0)\u001b[0m\n\u001b[0;32m    613\u001b[0m     \u001b[38;5;28mself\u001b[39m\u001b[38;5;241m.\u001b[39mpicks \u001b[38;5;241m=\u001b[39m \u001b[38;5;28mself\u001b[39m\u001b[38;5;241m.\u001b[39mpicks[idx]\n\u001b[0;32m    615\u001b[0m \u001b[38;5;28;01mif\u001b[39;00m \u001b[38;5;28mgetattr\u001b[39m(\u001b[38;5;28mself\u001b[39m, \u001b[38;5;124m\"\u001b[39m\u001b[38;5;124m_read_picks\u001b[39m\u001b[38;5;124m\"\u001b[39m, \u001b[38;5;28;01mNone\u001b[39;00m) \u001b[38;5;129;01mis\u001b[39;00m \u001b[38;5;129;01mnot\u001b[39;00m \u001b[38;5;28;01mNone\u001b[39;00m:\n\u001b[1;32m--> 616\u001b[0m     \u001b[38;5;28mself\u001b[39m\u001b[38;5;241m.\u001b[39m_read_picks \u001b[38;5;241m=\u001b[39m [\u001b[43mr\u001b[49m\u001b[43m[\u001b[49m\u001b[43midx\u001b[49m\u001b[43m]\u001b[49m \u001b[38;5;28;01mfor\u001b[39;00m r \u001b[38;5;129;01min\u001b[39;00m \u001b[38;5;28mself\u001b[39m\u001b[38;5;241m.\u001b[39m_read_picks]\n\u001b[0;32m    618\u001b[0m \u001b[38;5;28;01mif\u001b[39;00m \u001b[38;5;28mhasattr\u001b[39m(\u001b[38;5;28mself\u001b[39m, \u001b[38;5;124m\"\u001b[39m\u001b[38;5;124m_cals\u001b[39m\u001b[38;5;124m\"\u001b[39m):\n\u001b[0;32m    619\u001b[0m     \u001b[38;5;28mself\u001b[39m\u001b[38;5;241m.\u001b[39m_cals \u001b[38;5;241m=\u001b[39m \u001b[38;5;28mself\u001b[39m\u001b[38;5;241m.\u001b[39m_cals[idx]\n",
      "\u001b[1;31mIndexError\u001b[0m: index 27 is out of bounds for axis 0 with size 0"
     ]
    }
   ],
   "source": [
    "# para selecionar somente alguns canais específicos\n",
    "for raw in raws:\n",
    "    raw.pick([\"IBI\"])\n",
    "    # raw.pick"
   ]
  }
 ],
 "metadata": {
  "kernelspec": {
   "display_name": "venv",
   "language": "python",
   "name": "python3"
  },
  "language_info": {
   "codemirror_mode": {
    "name": "ipython",
    "version": 3
   },
   "file_extension": ".py",
   "mimetype": "text/x-python",
   "name": "python",
   "nbconvert_exporter": "python",
   "pygments_lexer": "ipython3",
   "version": "3.11.9"
  }
 },
 "nbformat": 4,
 "nbformat_minor": 2
}
